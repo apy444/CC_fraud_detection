{
 "cells": [
  {
   "cell_type": "markdown",
   "metadata": {},
   "source": [
    "### <div style=\"text-align: center\">ISYE 6740 Fall 2020 - Project Report - Part2 </div> \n",
    "\n",
    "\n",
    "<div style=\"text-align: center; font-size:120%\">Andrea Koltai, Peter Kovari</div><div style=\"text-align: center; font-size:100%\">akoltai3@gatech.edu, pkovari3@gatech.edu</div><br>\n",
    "\n",
    "\n",
    "<div style=\"text-align: center; font-size: 120%\"> 12/08/2020</div>\n"
   ]
  },
  {
   "cell_type": "code",
   "execution_count": 14,
   "metadata": {},
   "outputs": [],
   "source": [
    "import pandas as pd\n",
    "import numpy as np\n",
    "import matplotlib.pyplot as plt\n",
    "import seaborn as sns\n",
    "\n",
    "from sklearn.metrics import f1_score, precision_score, recall_score\n",
    "from sklearn.metrics import classification_report\n",
    "from sklearn.metrics import confusion_matrix"
   ]
  },
  {
   "cell_type": "markdown",
   "metadata": {},
   "source": [
    "### Import files"
   ]
  },
  {
   "cell_type": "code",
   "execution_count": 186,
   "metadata": {},
   "outputs": [
    {
     "name": "stdout",
     "output_type": "stream",
     "text": [
      "Train set:      (170883, 30),  labels:  (170883,)\n",
      "Validation set:  (56962, 30),  labels:  (56962,)\n",
      "Test set:        (56962, 30),  labels:  (56962,)\n",
      "\n",
      "Fraud in train:       0.17%\n",
      "Fraud in validation:  0.17%\n",
      "Fraud in test:        0.17%\n"
     ]
    }
   ],
   "source": [
    "Xtrain = pd.read_csv('data/Xtrain.csv', index_col=0)\n",
    "ytrain = pd.read_csv('data/ytrain.csv', index_col=0).iloc[:,0]\n",
    "Xval = pd.read_csv('data/Xval.csv', index_col=0)\n",
    "yval = pd.read_csv('data/yval.csv', index_col=0).iloc[:,0]\n",
    "Xtest = pd.read_csv('data/Xtest.csv', index_col=0)\n",
    "ytest = pd.read_csv('data/ytest.csv', index_col=0).iloc[:,0]\n",
    "\n",
    "\n",
    "print(f'Train set:      {Xtrain.shape},  labels:  {ytrain.shape}')\n",
    "print(f'Validation set:  {Xval.shape},  labels:  {yval.shape}')\n",
    "print(f'Test set:        {Xtest.shape},  labels:  {ytest.shape}\\n')\n",
    "\n",
    "print(f'Fraud in train:      {ytrain.mean(): .2%}')\n",
    "print(f'Fraud in validation: {yval.mean(): .2%}')\n",
    "print(f'Fraud in test:        {ytest.mean():.2%}')"
   ]
  },
  {
   "cell_type": "code",
   "execution_count": 187,
   "metadata": {},
   "outputs": [
    {
     "name": "stdout",
     "output_type": "stream",
     "text": [
      "['V1', 'V2', 'V3', 'V4', 'V5', 'V6', 'V7', 'V8', 'V9', 'V10', 'V11', 'V12', 'V13', 'V14', 'V15', 'V16', 'V17', 'V18', 'V19', 'V20', 'V21', 'V22', 'V23', 'V24', 'V25', 'V26', 'V27', 'V28', 'scaled_amount', 'scaled_hour']\n"
     ]
    }
   ],
   "source": [
    "feats = Xtrain.columns.tolist()\n",
    "print(feats)"
   ]
  },
  {
   "cell_type": "code",
   "execution_count": null,
   "metadata": {},
   "outputs": [],
   "source": []
  },
  {
   "cell_type": "markdown",
   "metadata": {},
   "source": [
    "### My helper functions"
   ]
  },
  {
   "cell_type": "code",
   "execution_count": 188,
   "metadata": {},
   "outputs": [],
   "source": [
    "def disp_conf_matrix(true, pred):\n",
    "    df = pd.DataFrame(confusion_matrix(true, pred), columns=['Pred_0', 'Pred_1'], index=['True_0', 'True_1'])\n",
    "    display(df)"
   ]
  },
  {
   "cell_type": "markdown",
   "metadata": {},
   "source": [
    "**Report format:**\n",
    "\n",
    "If you train your model and hyperparameter tuning is involved:\n",
    "* train the model on `Xtrain`, `ytrain` dataset\n",
    "* make prediction using `Xval` --> `pred_val`\n",
    "* calculate `f1_score(yval, pred_val)` \n",
    "* choose the parameters with the highest f1 score\n",
    "* make prediction on test set `Xtest` --> `pred_test`\n",
    "* evaluate the model performance on the test set:     \n",
    "```print(classification_report(ytest, pred_test, digits=3))```    \n",
    "and   \n",
    "```disp_conf_matrix(ytest, pred_test)```\n",
    "\n",
    "If no hyperparameter tuning is needed, just skip the 2-4 steps."
   ]
  },
  {
   "cell_type": "markdown",
   "metadata": {},
   "source": [
    "## Local Outlier Factors"
   ]
  },
  {
   "cell_type": "code",
   "execution_count": 18,
   "metadata": {},
   "outputs": [],
   "source": [
    "from sklearn.ensemble import IsolationForest\n",
    "from sklearn.neighbors import LocalOutlierFactor\n",
    "from sklearn.ensemble import RandomForestClassifier\n",
    "from sklearn.model_selection import train_test_split\n",
    "from sklearn.metrics import classification_report,accuracy_score"
   ]
  },
  {
   "cell_type": "code",
   "execution_count": 7,
   "metadata": {},
   "outputs": [
    {
     "data": {
      "text/html": [
       "<div>\n",
       "<style scoped>\n",
       "    .dataframe tbody tr th:only-of-type {\n",
       "        vertical-align: middle;\n",
       "    }\n",
       "\n",
       "    .dataframe tbody tr th {\n",
       "        vertical-align: top;\n",
       "    }\n",
       "\n",
       "    .dataframe thead th {\n",
       "        text-align: right;\n",
       "    }\n",
       "</style>\n",
       "<table border=\"1\" class=\"dataframe\">\n",
       "  <thead>\n",
       "    <tr style=\"text-align: right;\">\n",
       "      <th></th>\n",
       "      <th>V1</th>\n",
       "      <th>V2</th>\n",
       "      <th>V3</th>\n",
       "      <th>V4</th>\n",
       "      <th>V5</th>\n",
       "      <th>V6</th>\n",
       "      <th>V7</th>\n",
       "      <th>V8</th>\n",
       "      <th>V9</th>\n",
       "      <th>V10</th>\n",
       "      <th>...</th>\n",
       "      <th>V21</th>\n",
       "      <th>V22</th>\n",
       "      <th>V23</th>\n",
       "      <th>V24</th>\n",
       "      <th>V25</th>\n",
       "      <th>V26</th>\n",
       "      <th>V27</th>\n",
       "      <th>V28</th>\n",
       "      <th>scaled_amount</th>\n",
       "      <th>scaled_hour</th>\n",
       "    </tr>\n",
       "  </thead>\n",
       "  <tbody>\n",
       "    <tr>\n",
       "      <th>count</th>\n",
       "      <td>170883.000000</td>\n",
       "      <td>170883.000000</td>\n",
       "      <td>170883.000000</td>\n",
       "      <td>170883.000000</td>\n",
       "      <td>170883.000000</td>\n",
       "      <td>170883.000000</td>\n",
       "      <td>170883.000000</td>\n",
       "      <td>170883.000000</td>\n",
       "      <td>170883.000000</td>\n",
       "      <td>170883.000000</td>\n",
       "      <td>...</td>\n",
       "      <td>170883.000000</td>\n",
       "      <td>170883.000000</td>\n",
       "      <td>170883.000000</td>\n",
       "      <td>170883.000000</td>\n",
       "      <td>170883.000000</td>\n",
       "      <td>170883.000000</td>\n",
       "      <td>170883.000000</td>\n",
       "      <td>170883.000000</td>\n",
       "      <td>170883.000000</td>\n",
       "      <td>170883.000000</td>\n",
       "    </tr>\n",
       "    <tr>\n",
       "      <th>mean</th>\n",
       "      <td>0.003147</td>\n",
       "      <td>-0.001898</td>\n",
       "      <td>0.001950</td>\n",
       "      <td>0.004090</td>\n",
       "      <td>-0.003149</td>\n",
       "      <td>0.004458</td>\n",
       "      <td>-0.001669</td>\n",
       "      <td>0.001006</td>\n",
       "      <td>0.000891</td>\n",
       "      <td>0.000716</td>\n",
       "      <td>...</td>\n",
       "      <td>0.000222</td>\n",
       "      <td>0.001887</td>\n",
       "      <td>0.000190</td>\n",
       "      <td>0.000257</td>\n",
       "      <td>0.001420</td>\n",
       "      <td>-0.000786</td>\n",
       "      <td>0.000038</td>\n",
       "      <td>0.000221</td>\n",
       "      <td>0.930737</td>\n",
       "      <td>-0.002037</td>\n",
       "    </tr>\n",
       "    <tr>\n",
       "      <th>std</th>\n",
       "      <td>1.947743</td>\n",
       "      <td>1.624640</td>\n",
       "      <td>1.513050</td>\n",
       "      <td>1.416873</td>\n",
       "      <td>1.377727</td>\n",
       "      <td>1.332696</td>\n",
       "      <td>1.240109</td>\n",
       "      <td>1.194033</td>\n",
       "      <td>1.098450</td>\n",
       "      <td>1.083764</td>\n",
       "      <td>...</td>\n",
       "      <td>0.729931</td>\n",
       "      <td>0.725090</td>\n",
       "      <td>0.612063</td>\n",
       "      <td>0.604886</td>\n",
       "      <td>0.522012</td>\n",
       "      <td>0.481902</td>\n",
       "      <td>0.405023</td>\n",
       "      <td>0.329751</td>\n",
       "      <td>3.509061</td>\n",
       "      <td>1.000913</td>\n",
       "    </tr>\n",
       "    <tr>\n",
       "      <th>min</th>\n",
       "      <td>-41.928738</td>\n",
       "      <td>-63.344698</td>\n",
       "      <td>-48.325589</td>\n",
       "      <td>-5.683171</td>\n",
       "      <td>-113.743307</td>\n",
       "      <td>-21.929312</td>\n",
       "      <td>-43.557242</td>\n",
       "      <td>-73.216718</td>\n",
       "      <td>-13.434066</td>\n",
       "      <td>-24.588262</td>\n",
       "      <td>...</td>\n",
       "      <td>-34.830382</td>\n",
       "      <td>-10.933144</td>\n",
       "      <td>-36.666000</td>\n",
       "      <td>-2.836627</td>\n",
       "      <td>-7.025783</td>\n",
       "      <td>-2.534330</td>\n",
       "      <td>-9.895244</td>\n",
       "      <td>-15.430084</td>\n",
       "      <td>-0.307413</td>\n",
       "      <td>-2.406930</td>\n",
       "    </tr>\n",
       "    <tr>\n",
       "      <th>25%</th>\n",
       "      <td>-0.921446</td>\n",
       "      <td>-0.603316</td>\n",
       "      <td>-0.887702</td>\n",
       "      <td>-0.843867</td>\n",
       "      <td>-0.695125</td>\n",
       "      <td>-0.764927</td>\n",
       "      <td>-0.556571</td>\n",
       "      <td>-0.207071</td>\n",
       "      <td>-0.643386</td>\n",
       "      <td>-0.534114</td>\n",
       "      <td>...</td>\n",
       "      <td>-0.227260</td>\n",
       "      <td>-0.538983</td>\n",
       "      <td>-0.162018</td>\n",
       "      <td>-0.352402</td>\n",
       "      <td>-0.316792</td>\n",
       "      <td>-0.327657</td>\n",
       "      <td>-0.070380</td>\n",
       "      <td>-0.053101</td>\n",
       "      <td>-0.229861</td>\n",
       "      <td>-0.693382</td>\n",
       "    </tr>\n",
       "    <tr>\n",
       "      <th>50%</th>\n",
       "      <td>0.020714</td>\n",
       "      <td>0.062948</td>\n",
       "      <td>0.180697</td>\n",
       "      <td>-0.014567</td>\n",
       "      <td>-0.057063</td>\n",
       "      <td>-0.271016</td>\n",
       "      <td>0.036713</td>\n",
       "      <td>0.023549</td>\n",
       "      <td>-0.051505</td>\n",
       "      <td>-0.091425</td>\n",
       "      <td>...</td>\n",
       "      <td>-0.028911</td>\n",
       "      <td>0.009686</td>\n",
       "      <td>-0.011293</td>\n",
       "      <td>0.041112</td>\n",
       "      <td>0.018588</td>\n",
       "      <td>-0.053805</td>\n",
       "      <td>0.001430</td>\n",
       "      <td>0.011163</td>\n",
       "      <td>0.000000</td>\n",
       "      <td>0.163392</td>\n",
       "    </tr>\n",
       "    <tr>\n",
       "      <th>75%</th>\n",
       "      <td>1.316773</td>\n",
       "      <td>0.800219</td>\n",
       "      <td>1.026223</td>\n",
       "      <td>0.747037</td>\n",
       "      <td>0.610331</td>\n",
       "      <td>0.401192</td>\n",
       "      <td>0.567041</td>\n",
       "      <td>0.328807</td>\n",
       "      <td>0.598322</td>\n",
       "      <td>0.456439</td>\n",
       "      <td>...</td>\n",
       "      <td>0.187260</td>\n",
       "      <td>0.529492</td>\n",
       "      <td>0.148108</td>\n",
       "      <td>0.437804</td>\n",
       "      <td>0.352340</td>\n",
       "      <td>0.239357</td>\n",
       "      <td>0.090650</td>\n",
       "      <td>0.078021</td>\n",
       "      <td>0.780409</td>\n",
       "      <td>0.848811</td>\n",
       "    </tr>\n",
       "    <tr>\n",
       "      <th>max</th>\n",
       "      <td>2.451888</td>\n",
       "      <td>22.057729</td>\n",
       "      <td>4.079168</td>\n",
       "      <td>16.715537</td>\n",
       "      <td>32.911462</td>\n",
       "      <td>73.301626</td>\n",
       "      <td>120.589494</td>\n",
       "      <td>19.587773</td>\n",
       "      <td>10.348407</td>\n",
       "      <td>15.245686</td>\n",
       "      <td>...</td>\n",
       "      <td>27.202839</td>\n",
       "      <td>10.503090</td>\n",
       "      <td>22.083545</td>\n",
       "      <td>4.584549</td>\n",
       "      <td>7.519589</td>\n",
       "      <td>3.517346</td>\n",
       "      <td>31.612198</td>\n",
       "      <td>22.620072</td>\n",
       "      <td>358.683155</td>\n",
       "      <td>1.534230</td>\n",
       "    </tr>\n",
       "  </tbody>\n",
       "</table>\n",
       "<p>8 rows × 30 columns</p>\n",
       "</div>"
      ],
      "text/plain": [
       "                  V1             V2             V3             V4  \\\n",
       "count  170883.000000  170883.000000  170883.000000  170883.000000   \n",
       "mean        0.003147      -0.001898       0.001950       0.004090   \n",
       "std         1.947743       1.624640       1.513050       1.416873   \n",
       "min       -41.928738     -63.344698     -48.325589      -5.683171   \n",
       "25%        -0.921446      -0.603316      -0.887702      -0.843867   \n",
       "50%         0.020714       0.062948       0.180697      -0.014567   \n",
       "75%         1.316773       0.800219       1.026223       0.747037   \n",
       "max         2.451888      22.057729       4.079168      16.715537   \n",
       "\n",
       "                  V5             V6             V7             V8  \\\n",
       "count  170883.000000  170883.000000  170883.000000  170883.000000   \n",
       "mean       -0.003149       0.004458      -0.001669       0.001006   \n",
       "std         1.377727       1.332696       1.240109       1.194033   \n",
       "min      -113.743307     -21.929312     -43.557242     -73.216718   \n",
       "25%        -0.695125      -0.764927      -0.556571      -0.207071   \n",
       "50%        -0.057063      -0.271016       0.036713       0.023549   \n",
       "75%         0.610331       0.401192       0.567041       0.328807   \n",
       "max        32.911462      73.301626     120.589494      19.587773   \n",
       "\n",
       "                  V9            V10  ...            V21            V22  \\\n",
       "count  170883.000000  170883.000000  ...  170883.000000  170883.000000   \n",
       "mean        0.000891       0.000716  ...       0.000222       0.001887   \n",
       "std         1.098450       1.083764  ...       0.729931       0.725090   \n",
       "min       -13.434066     -24.588262  ...     -34.830382     -10.933144   \n",
       "25%        -0.643386      -0.534114  ...      -0.227260      -0.538983   \n",
       "50%        -0.051505      -0.091425  ...      -0.028911       0.009686   \n",
       "75%         0.598322       0.456439  ...       0.187260       0.529492   \n",
       "max        10.348407      15.245686  ...      27.202839      10.503090   \n",
       "\n",
       "                 V23            V24            V25            V26  \\\n",
       "count  170883.000000  170883.000000  170883.000000  170883.000000   \n",
       "mean        0.000190       0.000257       0.001420      -0.000786   \n",
       "std         0.612063       0.604886       0.522012       0.481902   \n",
       "min       -36.666000      -2.836627      -7.025783      -2.534330   \n",
       "25%        -0.162018      -0.352402      -0.316792      -0.327657   \n",
       "50%        -0.011293       0.041112       0.018588      -0.053805   \n",
       "75%         0.148108       0.437804       0.352340       0.239357   \n",
       "max        22.083545       4.584549       7.519589       3.517346   \n",
       "\n",
       "                 V27            V28  scaled_amount    scaled_hour  \n",
       "count  170883.000000  170883.000000  170883.000000  170883.000000  \n",
       "mean        0.000038       0.000221       0.930737      -0.002037  \n",
       "std         0.405023       0.329751       3.509061       1.000913  \n",
       "min        -9.895244     -15.430084      -0.307413      -2.406930  \n",
       "25%        -0.070380      -0.053101      -0.229861      -0.693382  \n",
       "50%         0.001430       0.011163       0.000000       0.163392  \n",
       "75%         0.090650       0.078021       0.780409       0.848811  \n",
       "max        31.612198      22.620072     358.683155       1.534230  \n",
       "\n",
       "[8 rows x 30 columns]"
      ]
     },
     "execution_count": 7,
     "metadata": {},
     "output_type": "execute_result"
    }
   ],
   "source": [
    "Xtrain.describe()"
   ]
  },
  {
   "cell_type": "markdown",
   "metadata": {},
   "source": [
    "#### Establishing Training Data for the LocalOutlierFactor model"
   ]
  },
  {
   "cell_type": "markdown",
   "metadata": {},
   "source": [
    "The LocalOutlierFactor model will be trained on inlier (valid credit card transaction) data points only from the test dataset:"
   ]
  },
  {
   "cell_type": "code",
   "execution_count": 217,
   "metadata": {},
   "outputs": [],
   "source": [
    "Xtrain_valid = Xtrain[ytrain == 0]\n",
    "Xtrain_invalid = Xtrain[ytrain == 1]"
   ]
  },
  {
   "cell_type": "code",
   "execution_count": 218,
   "metadata": {},
   "outputs": [
    {
     "name": "stdout",
     "output_type": "stream",
     "text": [
      "(170883, 30) (170588, 30) (295, 30)\n"
     ]
    }
   ],
   "source": [
    "print(Xtrain.shape, Xtrain_valid.shape, Xtrain_invalid.shape)"
   ]
  },
  {
   "cell_type": "markdown",
   "metadata": {},
   "source": [
    "#### Training the LocalOutlierFactor model"
   ]
  },
  {
   "cell_type": "markdown",
   "metadata": {},
   "source": [
    "First, we train the LocalOutlierFactor model with the following parameters: \n",
    "\n",
    "    - n_neighbors = 10 - setting the number of k=10 for the k-nearest-neighbors portion of the algorithm - comparing local densities with that of the nearest 10 neighbors for each datapoint - to be optimized below.\n",
    "    - novelty=False - this sets the model in outlier-detection mode\n",
    "    - n_jobs = 8 - using 8 available processor cores for more efficient computation.\n"
   ]
  },
  {
   "cell_type": "code",
   "execution_count": 219,
   "metadata": {
    "scrolled": true
   },
   "outputs": [
    {
     "name": "stdout",
     "output_type": "stream",
     "text": [
      "CPU times: user 38min 49s, sys: 0 ns, total: 38min 49s\n",
      "Wall time: 4min 59s\n"
     ]
    },
    {
     "data": {
      "text/plain": [
       "LocalOutlierFactor(n_jobs=8, n_neighbors=10)"
      ]
     },
     "execution_count": 219,
     "metadata": {},
     "output_type": "execute_result"
    }
   ],
   "source": [
    "%%time\n",
    "\n",
    "LOF = LocalOutlierFactor(n_neighbors = 10, n_jobs=8, novelty=False)\n",
    "LOF.fit(Xtrain_valid) \n"
   ]
  },
  {
   "cell_type": "code",
   "execution_count": 220,
   "metadata": {},
   "outputs": [
    {
     "name": "stdout",
     "output_type": "stream",
     "text": [
      "Number of total errors: 2688\n",
      "Accuracy score:  0.9528106456936203\n",
      "              precision    recall  f1-score   support\n",
      "\n",
      "           0       1.00      0.95      0.98     56863\n",
      "           1       0.01      0.31      0.02        99\n",
      "\n",
      "    accuracy                           0.95     56962\n",
      "   macro avg       0.51      0.63      0.50     56962\n",
      "weighted avg       1.00      0.95      0.97     56962\n",
      "\n"
     ]
    }
   ],
   "source": [
    "# Setting the model into \"novelty\" mode:\n",
    "if 'novelty' in LOF.get_params():\n",
    "    LOF.set_params(novelty=True)\n",
    "\n",
    "pred_val= LOF.predict(Xval) \n",
    "\n",
    "# Changing predicted labels to be consistent with the original dataset's labels\n",
    "\n",
    "# Valid CC transaction labels are labeled as 0 in the original dataset: \n",
    "pred_val[pred_val == 1] = 0 \n",
    "# Fraudulent CC transaction labels are labeled as 1 in the original dataset: \n",
    "pred_val[pred_val == -1] = 1 \n",
    "\n",
    "errors_val = (pred_val != yval).sum() \n",
    "print(\"Number of total errors:\", errors_val)\n",
    "print(\"Accuracy score: \", accuracy_score(yval, pred_val))\n",
    "print(classification_report(yval, pred_val))\n"
   ]
  },
  {
   "cell_type": "markdown",
   "metadata": {},
   "source": [
    "#### Finding the optimal hyper-parameter for LocalOutierFactor"
   ]
  },
  {
   "cell_type": "markdown",
   "metadata": {},
   "source": [
    "We try various \"number of neighbors\" parameter values for the LocalOutlierFactor model:"
   ]
  },
  {
   "cell_type": "code",
   "execution_count": null,
   "metadata": {},
   "outputs": [],
   "source": [
    "from sklearn.model_selection import GridSearchCV\n",
    "from sklearn.metrics import make_scorer\n",
    "\n",
    "pred_validation = [pred_val == 1] = -1 \n",
    "pred_validation = pred_val[pred_val == 0] =  1 \n",
    "\n",
    "num_of_neighbors = [3,5,10,15,20,15,30,50]\n",
    "tuned_parameters = {'n_neighbors' : num_of_neighbors}\n",
    "\n",
    "for score in range(1):  #scores\n",
    "    clf =  GridSearchCV(LOF, tuned_parameters, cv=5,\n",
    "                           scoring=make_scorer(accuracy_score), return_train_score=True, n_jobs=8)    \n",
    "    clf.fit(Xval, pred_validation)\n",
    "\n",
    "    resultDf = pd.DataFrame(clf.cv_results_)\n",
    "    print(resultDf[[\"mean_test_score\", \"std_test_score\", \"params\"]].sort_values(by=[\"mean_test_score\"], ascending=False).head())\n",
    "    print()\n",
    "    print(\"Best parameters set found on cross-validation set:\")\n",
    "    print()\n",
    "    print(clf.best_params_)"
   ]
  },
  {
   "cell_type": "markdown",
   "metadata": {},
   "source": [
    "#### (Re-)Training the LocalOutlierFactor model with the optimal k=50 number of neighbors parameter:"
   ]
  },
  {
   "cell_type": "code",
   "execution_count": 51,
   "metadata": {},
   "outputs": [
    {
     "name": "stdout",
     "output_type": "stream",
     "text": [
      "CPU times: user 58min 47s, sys: 17.3 s, total: 59min 5s\n",
      "Wall time: 7min 37s\n"
     ]
    },
    {
     "data": {
      "text/plain": [
       "LocalOutlierFactor(n_jobs=8, n_neighbors=50)"
      ]
     },
     "execution_count": 51,
     "metadata": {},
     "output_type": "execute_result"
    }
   ],
   "source": [
    "%%time\n",
    "\n",
    "LOF = LocalOutlierFactor(n_neighbors = 50, n_jobs=8, novelty=False)\n",
    "LOF.fit(Xtrain_valid) "
   ]
  },
  {
   "cell_type": "code",
   "execution_count": 52,
   "metadata": {},
   "outputs": [],
   "source": [
    "if 'novelty' in LOF.get_params():\n",
    "    LOF.set_params(novelty=True)\n",
    "\n",
    "pred_test= LOF.predict(Xtest) "
   ]
  },
  {
   "cell_type": "code",
   "execution_count": 53,
   "metadata": {},
   "outputs": [
    {
     "name": "stdout",
     "output_type": "stream",
     "text": [
      "Number of total errors: 1708\n",
      "Accuracy score:  0.9700150977844879\n",
      "              precision    recall  f1-score   support\n",
      "\n",
      "           0       1.00      0.97      0.98     56864\n",
      "           1       0.05      0.91      0.09        98\n",
      "\n",
      "    accuracy                           0.97     56962\n",
      "   macro avg       0.52      0.94      0.54     56962\n",
      "weighted avg       1.00      0.97      0.98     56962\n",
      "\n"
     ]
    }
   ],
   "source": [
    "pred_test[pred_test == 1] = 0 \n",
    "pred_test[pred_test == -1] = 1 \n",
    "\n",
    "\n",
    "errors_test = (pred_test != ytest).sum() \n",
    "print(\"Number of total errors:\", errors_test)\n",
    "print(\"Accuracy score: \", accuracy_score(ytest, pred_test))\n",
    "print(classification_report(ytest, pred_test))"
   ]
  },
  {
   "cell_type": "markdown",
   "metadata": {},
   "source": [
    "Refering back to the results of the previous models in the first portion of the 'Project', the following features have the most amount of predictive power: V10, V12, V14, V16, V17"
   ]
  },
  {
   "cell_type": "markdown",
   "metadata": {},
   "source": [
    "#### Running LocalOutlier factor with select features"
   ]
  },
  {
   "cell_type": "code",
   "execution_count": 65,
   "metadata": {
    "scrolled": true
   },
   "outputs": [
    {
     "data": {
      "text/plain": [
       "LocalOutlierFactor(n_jobs=8, n_neighbors=50, novelty=True)"
      ]
     },
     "execution_count": 65,
     "metadata": {},
     "output_type": "execute_result"
    }
   ],
   "source": [
    "LOF.fit(Xtrain_valid[[\"V10\", \"V12\", \"V14\", \"V16\", \"V17\", \"scaled_amount\", \"scaled_hour\"]]) "
   ]
  },
  {
   "cell_type": "code",
   "execution_count": 66,
   "metadata": {},
   "outputs": [],
   "source": [
    "if 'novelty' in LOF.get_params():\n",
    "    LOF.set_params(novelty=True)\n",
    "pred_test= LOF.predict(Xtest[[\"V10\", \"V12\", \"V14\", \"V16\", \"V17\", \"scaled_amount\", \"scaled_hour\"]]) "
   ]
  },
  {
   "cell_type": "code",
   "execution_count": 67,
   "metadata": {},
   "outputs": [
    {
     "name": "stdout",
     "output_type": "stream",
     "text": [
      "Number of total errors: 471\n",
      "Accuracy score:  0.9917313296583687\n",
      "              precision    recall  f1-score   support\n",
      "\n",
      "           0       1.00      0.99      1.00     56864\n",
      "           1       0.16      0.89      0.27        98\n",
      "\n",
      "    accuracy                           0.99     56962\n",
      "   macro avg       0.58      0.94      0.63     56962\n",
      "weighted avg       1.00      0.99      0.99     56962\n",
      "\n"
     ]
    }
   ],
   "source": [
    "pred_test[pred_test == 1] = 0 \n",
    "pred_test[pred_test == -1] = 1 \n",
    "\n",
    "errors_test = (pred_test != ytest).sum() \n",
    "print(\"Number of total errors:\", errors_test)\n",
    "print(\"Accuracy score: \", accuracy_score(ytest, pred_test))\n",
    "print(classification_report(ytest, pred_test))"
   ]
  },
  {
   "cell_type": "markdown",
   "metadata": {},
   "source": [
    "While the 16% precision rate for the fraudulent transactions (label = 1) is quite low, the 89% recall is very promising. This indicates, that 89% of fraudulent transactions will be called as fraudulent by this model, and 'only' 11% will 'fall through the cracks'. Precision at 16% means that only 16% of all transactions flagged by this model as fraudulent are in fact fraudulent.\n",
    "\n",
    "This high recall value is a much more important from a business perspective than the precision score - in the case of credit card fraud detection, since the monetary cost of (even manually / in person over the phone) validating or potentially throwing away initiated credit card transactions flagged by this candidate model of ours is usually lower than the cost of allowing fraudulent transaction. \n"
   ]
  },
  {
   "cell_type": "markdown",
   "metadata": {},
   "source": [
    "## Isolation Forest"
   ]
  },
  {
   "cell_type": "code",
   "execution_count": 74,
   "metadata": {},
   "outputs": [],
   "source": [
    "import sklearn\n",
    "from sklearn.ensemble import IsolationForest\n",
    "from sklearn.metrics import make_scorer, f1_score\n",
    "from sklearn import model_selection\n",
    "from sklearn.model_selection import train_test_split"
   ]
  },
  {
   "cell_type": "markdown",
   "metadata": {},
   "source": [
    "#### Running model with Default Parameters"
   ]
  },
  {
   "cell_type": "code",
   "execution_count": 75,
   "metadata": {},
   "outputs": [
    {
     "data": {
      "text/plain": [
       "IsolationForest(contamination=0.0017263273701889597, random_state=0)"
      ]
     },
     "execution_count": 75,
     "metadata": {},
     "output_type": "execute_result"
    }
   ],
   "source": [
    "model = IsolationForest(n_estimators=100, random_state=0, contamination=ytrain.mean() )\n",
    "model.fit(Xtrain_valid)\n"
   ]
  },
  {
   "cell_type": "code",
   "execution_count": 76,
   "metadata": {},
   "outputs": [],
   "source": [
    "ypred_test = model.predict(Xtest)"
   ]
  },
  {
   "cell_type": "code",
   "execution_count": 77,
   "metadata": {},
   "outputs": [],
   "source": [
    "ypred_test[ypred_test == 1] = 0 \n",
    "ypred_test[ypred_test == -1] = 1 "
   ]
  },
  {
   "cell_type": "code",
   "execution_count": 79,
   "metadata": {},
   "outputs": [
    {
     "name": "stdout",
     "output_type": "stream",
     "text": [
      "Number of total errors: 178\n",
      "Accuracy score:  0.996875109722271\n",
      "              precision    recall  f1-score   support\n",
      "\n",
      "           0       1.00      1.00      1.00     56864\n",
      "           1       0.21      0.31      0.25        98\n",
      "\n",
      "    accuracy                           1.00     56962\n",
      "   macro avg       0.61      0.65      0.63     56962\n",
      "weighted avg       1.00      1.00      1.00     56962\n",
      "\n"
     ]
    }
   ],
   "source": [
    "errors_test = (ypred_test != ytest).sum() \n",
    "print(\"Number of total errors:\", errors_test)\n",
    "print(\"Accuracy score: \", accuracy_score(ytest, ypred_test))\n",
    "print(classification_report(ytest, ypred_test))"
   ]
  },
  {
   "cell_type": "markdown",
   "metadata": {},
   "source": [
    "Results are pretty weak, only a F1 =0.25 with very low recall and precision."
   ]
  },
  {
   "cell_type": "markdown",
   "metadata": {},
   "source": [
    "#### Running model with Default Parameters and the previously identified features only:"
   ]
  },
  {
   "cell_type": "code",
   "execution_count": 80,
   "metadata": {
    "scrolled": true
   },
   "outputs": [
    {
     "data": {
      "text/plain": [
       "IsolationForest(contamination=0.0017263273701889597, random_state=0)"
      ]
     },
     "execution_count": 80,
     "metadata": {},
     "output_type": "execute_result"
    }
   ],
   "source": [
    "model.fit(Xtrain_valid[[\"V10\", \"V12\", \"V14\", \"V16\", \"V17\"]])"
   ]
  },
  {
   "cell_type": "code",
   "execution_count": 81,
   "metadata": {
    "scrolled": true
   },
   "outputs": [
    {
     "name": "stdout",
     "output_type": "stream",
     "text": [
      "Number of total errors: 112\n",
      "Accuracy score:  0.9980337769039008\n",
      "              precision    recall  f1-score   support\n",
      "\n",
      "           0       1.00      1.00      1.00     56864\n",
      "           1       0.46      0.84      0.59        98\n",
      "\n",
      "    accuracy                           1.00     56962\n",
      "   macro avg       0.73      0.92      0.80     56962\n",
      "weighted avg       1.00      1.00      1.00     56962\n",
      "\n"
     ]
    }
   ],
   "source": [
    "ypred_test = model.predict(Xtest[[\"V10\", \"V12\", \"V14\", \"V16\", \"V17\"]])\n",
    "ypred_test[ypred_test == 1] = 0 \n",
    "ypred_test[ypred_test == -1] = 1 \n",
    "errors_test = (ypred_test != ytest).sum() \n",
    "print(\"Number of total errors:\", errors_test)\n",
    "print(\"Accuracy score: \", accuracy_score(ytest, ypred_test))\n",
    "print(classification_report(ytest, ypred_test))"
   ]
  },
  {
   "cell_type": "markdown",
   "metadata": {},
   "source": [
    "#### Performing grid-search for finding optimal hyper-parameters: "
   ]
  },
  {
   "cell_type": "code",
   "execution_count": 171,
   "metadata": {},
   "outputs": [],
   "source": [
    "cont = ytrain.mean()\n",
    "model = IsolationForest(random_state=0, n_jobs=10, contamination=ytrain.mean())\n",
    "\n",
    "param_grid = {\n",
    "                'n_estimators': list(range(100, 400, 50)),\n",
    "                'max_features': [1,2,5,10,20,30],\n",
    "#                'contamination': [0.001, 0.0017, 0.005, 0.01, 0.1]\n",
    "                'bootstrap': [True, False],\n",
    "                'max_samples': list(range(100, 500, 50))\n",
    "            }"
   ]
  },
  {
   "cell_type": "code",
   "execution_count": 175,
   "metadata": {},
   "outputs": [],
   "source": [
    "cv=[(slice(None), slice(None))]   #Turning off cross-validation, performing GridSearch only.\n",
    "        #See:  https://stackoverflow.com/questions/44636370/scikit-learn-gridsearchcv-without-cross-validation-unsupervised-learning#44682305\n",
    "f1sc = make_scorer(f1_score, average='micro')\n",
    "\n",
    "IF_GridSearchCV = model_selection.GridSearchCV(model, \n",
    "                                                 param_grid,\n",
    "                                                 scoring=f1sc, \n",
    "                                                 refit=True,\n",
    "#                                                 cv=10,\n",
    "                                                 cv=cv,\n",
    "                                                 return_train_score=True,\n",
    "                                                 n_jobs=-1\n",
    "                                              )"
   ]
  },
  {
   "cell_type": "code",
   "execution_count": 173,
   "metadata": {},
   "outputs": [],
   "source": [
    "ytrain_rs = ytrain.values.reshape(ytrain.shape[0],1)\n",
    "Xy = np.concatenate((Xtrain, ytrain_rs), axis=1)\n",
    "df = pd.DataFrame(data=Xy)\n",
    "Xy_sample = df.sample(frac=0.1)\n",
    "ytrain_sample = Xy_sample.iloc[:,-1]\n",
    "Xtrain_sample = Xy_sample.iloc[:,:-1]\n",
    "\n",
    "\n",
    "ytrain_sample[ytrain_sample == 1] = -1 \n",
    "ytrain_sample[ytrain_sample == 0] =  1 "
   ]
  },
  {
   "cell_type": "code",
   "execution_count": 174,
   "metadata": {
    "scrolled": true
   },
   "outputs": [
    {
     "name": "stdout",
     "output_type": "stream",
     "text": [
      "     mean_test_score  std_test_score  \\\n",
      "414         0.997776             0.0   \n",
      "426         0.997776             0.0   \n",
      "384         0.997659             0.0   \n",
      "390         0.997659             0.0   \n",
      "408         0.997659             0.0   \n",
      "\n",
      "                                                params  \n",
      "414  {'bootstrap': False, 'max_features': 5, 'max_s...  \n",
      "426  {'bootstrap': False, 'max_features': 5, 'max_s...  \n",
      "384  {'bootstrap': False, 'max_features': 5, 'max_s...  \n",
      "390  {'bootstrap': False, 'max_features': 5, 'max_s...  \n",
      "408  {'bootstrap': False, 'max_features': 5, 'max_s...   \n",
      "\n",
      "Best parameters set found on cross-validation set:\n",
      "\n",
      "{'bootstrap': False, 'max_features': 5, 'max_samples': 350, 'n_estimators': 100}\n",
      "CPU times: user 6.98 s, sys: 436 ms, total: 7.42 s\n",
      "Wall time: 9min 53s\n"
     ]
    }
   ],
   "source": [
    "%%time\n",
    "IF_GridSearchCV.fit(Xtrain_sample, ytrain_sample)\n",
    "\n",
    "resultDf = pd.DataFrame(IF_GridSearchCV.cv_results_)\n",
    "print(resultDf[[\"mean_test_score\", \"std_test_score\", \"params\"]].sort_values(by=[\"mean_test_score\"], ascending=False).head(), \"\\n\")\n",
    "print(\"Best parameters set found on cross-validation set:\\n\")\n",
    "print(IF_GridSearchCV.best_params_)\n",
    "\n"
   ]
  },
  {
   "cell_type": "markdown",
   "metadata": {},
   "source": [
    "Let us see how our model performs with these newly found (semi-)optimal hyper-parameters: 'bootstrap': False, 'max_features': 5, 'max_samples': 350, 'n_estimators': 100"
   ]
  },
  {
   "cell_type": "markdown",
   "metadata": {},
   "source": [
    "#### Running Isolation Forest model with Optimal hyper-parameters: "
   ]
  },
  {
   "cell_type": "code",
   "execution_count": 176,
   "metadata": {},
   "outputs": [
    {
     "data": {
      "text/plain": [
       "IsolationForest(contamination=0.0017263273701889597, max_features=5,\n",
       "                max_samples=350, n_jobs=-1, random_state=0)"
      ]
     },
     "execution_count": 176,
     "metadata": {},
     "output_type": "execute_result"
    }
   ],
   "source": [
    "modelOptimal = IsolationForest(n_estimators=100, contamination=ytrain.mean(), max_samples=350, max_features=5, random_state=0, n_jobs=-1)\n",
    "modelOptimal.fit(Xtrain)"
   ]
  },
  {
   "cell_type": "code",
   "execution_count": 177,
   "metadata": {},
   "outputs": [],
   "source": [
    "ypred_test = modelOptimal.predict(Xtest)"
   ]
  },
  {
   "cell_type": "code",
   "execution_count": 178,
   "metadata": {},
   "outputs": [
    {
     "name": "stdout",
     "output_type": "stream",
     "text": [
      "Number of total errors: 146\n",
      "Accuracy score:  0.9974368877497279\n",
      "              precision    recall  f1-score   support\n",
      "\n",
      "           0       1.00      1.00      1.00     56864\n",
      "           1       0.30      0.36      0.32        98\n",
      "\n",
      "    accuracy                           1.00     56962\n",
      "   macro avg       0.65      0.68      0.66     56962\n",
      "weighted avg       1.00      1.00      1.00     56962\n",
      "\n"
     ]
    }
   ],
   "source": [
    "ypred_test[ypred_test == 1] = 0 \n",
    "ypred_test[ypred_test == -1] = 1 \n",
    "errors_test = (ypred_test != ytest).sum() \n",
    "print(\"Number of total errors:\", errors_test)\n",
    "print(\"Accuracy score: \", accuracy_score(ytest, ypred_test))\n",
    "print(classification_report(ytest, ypred_test))"
   ]
  },
  {
   "cell_type": "code",
   "execution_count": 189,
   "metadata": {},
   "outputs": [
    {
     "data": {
      "text/html": [
       "<div>\n",
       "<style scoped>\n",
       "    .dataframe tbody tr th:only-of-type {\n",
       "        vertical-align: middle;\n",
       "    }\n",
       "\n",
       "    .dataframe tbody tr th {\n",
       "        vertical-align: top;\n",
       "    }\n",
       "\n",
       "    .dataframe thead th {\n",
       "        text-align: right;\n",
       "    }\n",
       "</style>\n",
       "<table border=\"1\" class=\"dataframe\">\n",
       "  <thead>\n",
       "    <tr style=\"text-align: right;\">\n",
       "      <th></th>\n",
       "      <th>Pred_0</th>\n",
       "      <th>Pred_1</th>\n",
       "    </tr>\n",
       "  </thead>\n",
       "  <tbody>\n",
       "    <tr>\n",
       "      <th>True_0</th>\n",
       "      <td>56831</td>\n",
       "      <td>33</td>\n",
       "    </tr>\n",
       "    <tr>\n",
       "      <th>True_1</th>\n",
       "      <td>20</td>\n",
       "      <td>78</td>\n",
       "    </tr>\n",
       "  </tbody>\n",
       "</table>\n",
       "</div>"
      ],
      "text/plain": [
       "        Pred_0  Pred_1\n",
       "True_0   56831      33\n",
       "True_1      20      78"
      ]
     },
     "metadata": {},
     "output_type": "display_data"
    }
   ],
   "source": [
    "disp_conf_matrix(ytest, ypred_test)"
   ]
  },
  {
   "cell_type": "markdown",
   "metadata": {},
   "source": [
    "F1 score came out to 0.32, somewhat higher than the naive approach, but still much lower than F1=59 in the case of using the selected features only with the non-optimized model. \n"
   ]
  },
  {
   "cell_type": "markdown",
   "metadata": {},
   "source": [
    "#### Running Isolation Forest model with Optimal hyper-parameters __and__ the selected features: "
   ]
  },
  {
   "cell_type": "code",
   "execution_count": 180,
   "metadata": {},
   "outputs": [
    {
     "data": {
      "text/plain": [
       "IsolationForest(contamination=0.0017263273701889597, max_features=5,\n",
       "                max_samples=350, n_jobs=-1, random_state=0)"
      ]
     },
     "execution_count": 180,
     "metadata": {},
     "output_type": "execute_result"
    }
   ],
   "source": [
    "modelOptimal.fit(Xtrain[[\"V10\", \"V12\", \"V14\", \"V16\", \"V17\"]])"
   ]
  },
  {
   "cell_type": "code",
   "execution_count": 181,
   "metadata": {},
   "outputs": [
    {
     "name": "stdout",
     "output_type": "stream",
     "text": [
      "Number of total errors: 53\n",
      "Accuracy score:  0.9990695551420246\n",
      "              precision    recall  f1-score   support\n",
      "\n",
      "           0       1.00      1.00      1.00     56864\n",
      "           1       0.70      0.80      0.75        98\n",
      "\n",
      "    accuracy                           1.00     56962\n",
      "   macro avg       0.85      0.90      0.87     56962\n",
      "weighted avg       1.00      1.00      1.00     56962\n",
      "\n"
     ]
    }
   ],
   "source": [
    "ypred_test = modelOptimal.predict(Xtest[[\"V10\", \"V12\", \"V14\", \"V16\", \"V17\"]])\n",
    "ypred_test[ypred_test == 1] = 0 \n",
    "ypred_test[ypred_test == -1] = 1 \n",
    "errors_test = (ypred_test != ytest).sum() \n",
    "print(\"Number of total errors:\", errors_test)\n",
    "print(\"Accuracy score: \", accuracy_score(ytest, ypred_test))\n",
    "print(classification_report(ytest, ypred_test))"
   ]
  },
  {
   "cell_type": "code",
   "execution_count": 191,
   "metadata": {},
   "outputs": [
    {
     "data": {
      "text/html": [
       "<div>\n",
       "<style scoped>\n",
       "    .dataframe tbody tr th:only-of-type {\n",
       "        vertical-align: middle;\n",
       "    }\n",
       "\n",
       "    .dataframe tbody tr th {\n",
       "        vertical-align: top;\n",
       "    }\n",
       "\n",
       "    .dataframe thead th {\n",
       "        text-align: right;\n",
       "    }\n",
       "</style>\n",
       "<table border=\"1\" class=\"dataframe\">\n",
       "  <thead>\n",
       "    <tr style=\"text-align: right;\">\n",
       "      <th></th>\n",
       "      <th>Pred_0</th>\n",
       "      <th>Pred_1</th>\n",
       "    </tr>\n",
       "  </thead>\n",
       "  <tbody>\n",
       "    <tr>\n",
       "      <th>True_0</th>\n",
       "      <td>56831</td>\n",
       "      <td>33</td>\n",
       "    </tr>\n",
       "    <tr>\n",
       "      <th>True_1</th>\n",
       "      <td>20</td>\n",
       "      <td>78</td>\n",
       "    </tr>\n",
       "  </tbody>\n",
       "</table>\n",
       "</div>"
      ],
      "text/plain": [
       "        Pred_0  Pred_1\n",
       "True_0   56831      33\n",
       "True_1      20      78"
      ]
     },
     "metadata": {},
     "output_type": "display_data"
    }
   ],
   "source": [
    "disp_conf_matrix(ytest, ypred_test)"
   ]
  },
  {
   "cell_type": "markdown",
   "metadata": {},
   "source": [
    "F1=0.75 is the best score we found so far - using our optimized parameters __and__ the selected set of features. In this case we have an 80% recall and 70% precision, these are in the range of practical applicability in the setting of a credit card processing operation. "
   ]
  },
  {
   "cell_type": "markdown",
   "metadata": {},
   "source": [
    "## ANN - Artificial Neural Network\n"
   ]
  },
  {
   "cell_type": "markdown",
   "metadata": {},
   "source": [
    "Using a Keras Sequential ANN model (with TensorFlow backend)"
   ]
  },
  {
   "cell_type": "markdown",
   "metadata": {},
   "source": [
    "Based on: \n",
    "https://www.codespeedy.com/the-sequential-model-in-keras-in-python/ and \n",
    "https://medium.com/analytics-vidhya/credit-card-fraud-detection-c66d1399c0b7"
   ]
  },
  {
   "cell_type": "code",
   "execution_count": 199,
   "metadata": {},
   "outputs": [],
   "source": [
    "import keras\n",
    "from keras.models import Sequential\n",
    "from keras.layers import Dense\n",
    "from keras.layers import Dropout\n",
    "\n",
    "import numpy as np\n",
    "\n",
    "#getting the features and target from the DF-s:\n",
    "features = np.array(Xtrain)\n",
    "target = ytrain\n",
    "\n",
    "#converting target column into categories\n",
    "from keras.utils import to_categorical\n",
    "target=to_categorical(target)"
   ]
  },
  {
   "cell_type": "code",
   "execution_count": 200,
   "metadata": {},
   "outputs": [
    {
     "data": {
      "text/plain": [
       "'1.19.2'"
      ]
     },
     "execution_count": 200,
     "metadata": {},
     "output_type": "execute_result"
    }
   ],
   "source": [
    "np.version.version"
   ]
  },
  {
   "cell_type": "code",
   "execution_count": 201,
   "metadata": {},
   "outputs": [],
   "source": [
    "model = Sequential([\n",
    "    Dense(units=16, activation='relu', input_dim=30),\n",
    "    Dense(units=24, activation='relu'), \n",
    "    Dropout(0.5),\n",
    "    Dense(units=20, activation='relu'), \n",
    "    Dense(units=24, activation='relu'), \n",
    "    Dense(2,activation='softmax')\n",
    "])"
   ]
  },
  {
   "cell_type": "code",
   "execution_count": 202,
   "metadata": {},
   "outputs": [],
   "source": [
    "model.compile(optimizer = 'adam',loss = 'categorical_crossentropy',metrics = ['accuracy'])"
   ]
  },
  {
   "cell_type": "code",
   "execution_count": 19,
   "metadata": {},
   "outputs": [
    {
     "name": "stdout",
     "output_type": "stream",
     "text": [
      "Epoch 1/10\n",
      "1069/1069 [==============================] - 1629s 2s/step - loss: 0.0295 - accuracy: 0.9971 - val_loss: 0.0052 - val_accuracy: 0.9990\n",
      "Epoch 2/10\n",
      "1069/1069 [==============================] - 1818s 2s/step - loss: 0.0053 - accuracy: 0.9990 - val_loss: 0.0039 - val_accuracy: 0.9993\n",
      "Epoch 3/10\n",
      "1069/1069 [==============================] - 1857s 2s/step - loss: 0.0041 - accuracy: 0.9993 - val_loss: 0.0039 - val_accuracy: 0.9994\n",
      "Epoch 4/10\n",
      "1069/1069 [==============================] - 1828s 2s/step - loss: 0.0038 - accuracy: 0.9993 - val_loss: 0.0040 - val_accuracy: 0.9993\n",
      "Epoch 5/10\n",
      "1069/1069 [==============================] - 1835s 2s/step - loss: 0.0034 - accuracy: 0.9993 - val_loss: 0.0039 - val_accuracy: 0.9993\n",
      "Epoch 6/10\n",
      "1069/1069 [==============================] - 1830s 2s/step - loss: 0.0034 - accuracy: 0.9993 - val_loss: 0.0039 - val_accuracy: 0.9994\n",
      "Epoch 7/10\n",
      "1069/1069 [==============================] - 1859s 2s/step - loss: 0.0031 - accuracy: 0.9993 - val_loss: 0.0049 - val_accuracy: 0.9994\n",
      "Epoch 8/10\n",
      "1069/1069 [==============================] - 1880s 2s/step - loss: 0.0031 - accuracy: 0.9993 - val_loss: 0.0040 - val_accuracy: 0.9994\n",
      "Epoch 9/10\n",
      "1069/1069 [==============================] - 1903s 2s/step - loss: 0.0029 - accuracy: 0.9994 - val_loss: 0.0038 - val_accuracy: 0.9994\n",
      "Epoch 10/10\n",
      "1069/1069 [==============================] - 2036s 2s/step - loss: 0.0027 - accuracy: 0.9995 - val_loss: 0.0040 - val_accuracy: 0.9994\n"
     ]
    },
    {
     "data": {
      "text/plain": [
       "<tensorflow.python.keras.callbacks.History at 0x7208f4306240>"
      ]
     },
     "execution_count": 19,
     "metadata": {},
     "output_type": "execute_result"
    }
   ],
   "source": [
    "#compile and fit the model\n",
    "model.compile(optimizer = 'adam',loss = 'categorical_crossentropy',metrics = ['accuracy'])\n",
    "model.fit(features,target,validation_split = 0.2,epochs = 10,batch_size = 128)"
   ]
  },
  {
   "cell_type": "code",
   "execution_count": 20,
   "metadata": {},
   "outputs": [
    {
     "name": "stdout",
     "output_type": "stream",
     "text": [
      "Model: \"sequential_1\"\n",
      "_________________________________________________________________\n",
      "Layer (type)                 Output Shape              Param #   \n",
      "=================================================================\n",
      "dense_5 (Dense)              (None, 16)                496       \n",
      "_________________________________________________________________\n",
      "dense_6 (Dense)              (None, 24)                408       \n",
      "_________________________________________________________________\n",
      "dropout (Dropout)            (None, 24)                0         \n",
      "_________________________________________________________________\n",
      "dense_7 (Dense)              (None, 20)                500       \n",
      "_________________________________________________________________\n",
      "dense_8 (Dense)              (None, 24)                504       \n",
      "_________________________________________________________________\n",
      "dense_9 (Dense)              (None, 2)                 50        \n",
      "=================================================================\n",
      "Total params: 1,958\n",
      "Trainable params: 1,958\n",
      "Non-trainable params: 0\n",
      "_________________________________________________________________\n"
     ]
    }
   ],
   "source": [
    "model.summary()"
   ]
  },
  {
   "cell_type": "code",
   "execution_count": 24,
   "metadata": {},
   "outputs": [],
   "source": [
    "ytest_target=to_categorical(ytest)"
   ]
  },
  {
   "cell_type": "code",
   "execution_count": 25,
   "metadata": {},
   "outputs": [
    {
     "name": "stdout",
     "output_type": "stream",
     "text": [
      "1781/1781 [==============================] - 2044s 1s/step - loss: 0.0024 - accuracy: 0.9995\n"
     ]
    }
   ],
   "source": [
    "score = model.evaluate(Xtest, ytest_target)"
   ]
  },
  {
   "cell_type": "code",
   "execution_count": 26,
   "metadata": {},
   "outputs": [
    {
     "name": "stdout",
     "output_type": "stream",
     "text": [
      "[0.002385556697845459, 0.9995260238647461]\n"
     ]
    }
   ],
   "source": [
    "print(score)"
   ]
  },
  {
   "cell_type": "code",
   "execution_count": 203,
   "metadata": {},
   "outputs": [],
   "source": [
    "from tensorflow.keras.models import Sequential, save_model, load_model"
   ]
  },
  {
   "cell_type": "code",
   "execution_count": 28,
   "metadata": {},
   "outputs": [
    {
     "name": "stdout",
     "output_type": "stream",
     "text": [
      "WARNING:tensorflow:From /home/user/.conda/envs/testenv/lib/python3.6/site-packages/tensorflow/python/ops/resource_variable_ops.py:1817: calling BaseResourceVariable.__init__ (from tensorflow.python.ops.resource_variable_ops) with constraint is deprecated and will be removed in a future version.\n",
      "Instructions for updating:\n",
      "If using Keras pass *_constraint arguments to layers.\n",
      "INFO:tensorflow:Assets written to: ./saved_model/assets\n"
     ]
    }
   ],
   "source": [
    "# To save the model run this: \n",
    "# (make sure the \"saved_model\" folder/directory exists at the path of this current .ipynb file )\n",
    "filepath = './saved_model'\n",
    "save_model(model, filepath)"
   ]
  },
  {
   "cell_type": "code",
   "execution_count": 204,
   "metadata": {},
   "outputs": [],
   "source": [
    "# Load reload the model from file run this cell: \n",
    "filepath = './saved_model'\n",
    "model = load_model(filepath, compile = True)"
   ]
  },
  {
   "cell_type": "code",
   "execution_count": 205,
   "metadata": {},
   "outputs": [
    {
     "name": "stdout",
     "output_type": "stream",
     "text": [
      "CPU times: user 3h 31s, sys: 2h 49min 14s, total: 5h 49min 46s\n",
      "Wall time: 29min 48s\n"
     ]
    }
   ],
   "source": [
    "%%time\n",
    "pred_test = model.predict(Xtest)"
   ]
  },
  {
   "cell_type": "code",
   "execution_count": 206,
   "metadata": {},
   "outputs": [],
   "source": [
    "pred_test_collapsed = np.argmax(pred_test, axis = 1)"
   ]
  },
  {
   "cell_type": "code",
   "execution_count": 207,
   "metadata": {},
   "outputs": [
    {
     "name": "stdout",
     "output_type": "stream",
     "text": [
      "Number of total errors: 27\n",
      "Accuracy score:  0.9995259997893332\n",
      "              precision    recall  f1-score   support\n",
      "\n",
      "           0       1.00      1.00      1.00     56864\n",
      "           1       0.86      0.87      0.86        98\n",
      "\n",
      "    accuracy                           1.00     56962\n",
      "   macro avg       0.93      0.93      0.93     56962\n",
      "weighted avg       1.00      1.00      1.00     56962\n",
      "\n"
     ]
    }
   ],
   "source": [
    "errors_test = (pred_test_collapsed != ytest).sum() \n",
    "print(\"Number of total errors:\", errors_test)\n",
    "print(\"Accuracy score: \", accuracy_score(ytest, pred_test_collapsed))\n",
    "print(classification_report(ytest, pred_test_collapsed))"
   ]
  },
  {
   "cell_type": "code",
   "execution_count": 215,
   "metadata": {},
   "outputs": [
    {
     "data": {
      "image/png": "[encoded data removed]",
      "text/plain": [
       "<Figure size 2400x900 with 2 Axes>"
      ]
     },
     "metadata": {
      "needs_background": "light"
     },
     "output_type": "display_data"
    }
   ],
   "source": [
    "plot_roc_prc2([model],pred_test,  ['ANN - Keras'], 'img/ROC_nn.png', 'Keras - ANN (16/24/20/24/softmax)');"
   ]
  },
  {
   "cell_type": "code",
   "execution_count": 214,
   "metadata": {},
   "outputs": [],
   "source": [
    "from sklearn.metrics import roc_curve\n",
    "from sklearn.metrics import precision_recall_curve\n",
    "from sklearn.metrics import roc_auc_score\n",
    "\n",
    "\n",
    "# modified version of plot_roc_prc2() \n",
    "def plot_roc_prc2(clfs, pred_test, names, save_path=None, suptitle=None, ):\n",
    "    '''Given the list of classifiers, displays the ROC and Precision-Recall Curve w.r.t. the test set'''\n",
    "    assert len(clfs) == len(names)\n",
    "    \n",
    "    fig, (ax1, ax2) =  plt.subplots(1,2, figsize=(12,4.5), dpi=200)\n",
    "    \n",
    "    for i in range(len(clfs)): \n",
    "        pred_test_proba = pred_test[:,1]  #replaced predict_proba()\n",
    "        precision, recall, t_prcurve = precision_recall_curve(ytest, pred_test_proba)\n",
    "        fpr, tpr, t_roccurve = roc_curve(ytest, pred_test_proba)\n",
    "\n",
    "        ax1.plot(fpr, tpr, label=names[i])\n",
    "        ax1.set_title('Receiver-Operator Curve', fontsize=10)\n",
    "        ax1.plot([0,1], [0,1], linestyle='--', c='r')\n",
    "\n",
    "        ax2.plot(precision, recall, label=names[i])\n",
    "        ax2.set_title('Precision-Recall Curve', fontsize=10)\n",
    "        ax2.plot([0,1], [0,0], linestyle='--', c='r')\n",
    "\n",
    "\n",
    "    ax1.legend(frameon=False, loc='lower right', bbox_to_anchor=(1, 0.1))\n",
    "    ax2.legend(frameon=False, loc='lower left', bbox_to_anchor=(0, 0.1))\n",
    "    \n",
    "    if suptitle:\n",
    "        plt.suptitle(suptitle, fontsize=12)\n",
    "    plt.tight_layout()\n",
    "    \n",
    "    if save_path:\n",
    "        plt.savefig(save_path, transparent=False, dpi=200, facecolor='white')\n",
    "        \n",
    "    plt.show()"
   ]
  },
  {
   "cell_type": "code",
   "execution_count": null,
   "metadata": {},
   "outputs": [],
   "source": []
  }
 ],
 "metadata": {
  "kernelspec": {
   "display_name": "Python 3",
   "language": "python",
   "name": "python3"
  },
  "language_info": {
   "codemirror_mode": {
    "name": "ipython",
    "version": 3
   },
   "file_extension": ".py",
   "mimetype": "text/x-python",
   "name": "python",
   "nbconvert_exporter": "python",
   "pygments_lexer": "ipython3",
   "version": "3.8.5"
  }
 },
 "nbformat": 4,
 "nbformat_minor": 4
}
